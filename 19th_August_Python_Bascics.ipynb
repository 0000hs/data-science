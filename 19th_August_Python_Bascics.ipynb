{
 "cells": [
  {
   "cell_type": "code",
   "execution_count": 31,
   "id": "4f93d0c7-c073-4c4a-a404-eb3e04fb4a3d",
   "metadata": {},
   "outputs": [],
   "source": [
    "'''Declare two variables, `x` and `y`, and assign them integer values.\n",
    "Swap the values of these variables without using any temporary\n",
    "variable.'''\n",
    "x = 10\n",
    "y = 20"
   ]
  },
  {
   "cell_type": "code",
   "execution_count": 32,
   "id": "9864bfba-addd-425a-a83c-76895881cb7d",
   "metadata": {},
   "outputs": [
    {
     "data": {
      "text/plain": [
       "(10, 20)"
      ]
     },
     "execution_count": 32,
     "metadata": {},
     "output_type": "execute_result"
    }
   ],
   "source": [
    "x ,y"
   ]
  },
  {
   "cell_type": "code",
   "execution_count": 33,
   "id": "92112aaa-7db2-4c66-b3ff-669dc2ec261a",
   "metadata": {},
   "outputs": [],
   "source": [
    "y = y - x"
   ]
  },
  {
   "cell_type": "code",
   "execution_count": 34,
   "id": "18d8159a-c382-4721-9710-ad6f92d6990f",
   "metadata": {},
   "outputs": [],
   "source": [
    "x = x + y"
   ]
  },
  {
   "cell_type": "code",
   "execution_count": 35,
   "id": "f83e2d1d-8f49-4414-81c7-2b303272269f",
   "metadata": {},
   "outputs": [
    {
     "data": {
      "text/plain": [
       "(20, 10)"
      ]
     },
     "execution_count": 35,
     "metadata": {},
     "output_type": "execute_result"
    }
   ],
   "source": [
    "x ,y"
   ]
  },
  {
   "cell_type": "code",
   "execution_count": null,
   "id": "7cb5caa0-fc9e-4973-a61b-3957d2eceabf",
   "metadata": {},
   "outputs": [],
   "source": [
    "'''Q2 Create a program that calculates the area of a rectangle. Take the\n",
    "length and width as inputs from the user and store them in variables.\n",
    "Calculate and display the area.'''"
   ]
  },
  {
   "cell_type": "code",
   "execution_count": 36,
   "id": "b44ecf38-6301-422e-94a5-b1cc321cb222",
   "metadata": {},
   "outputs": [],
   "source": [
    "#area of rectangle is A = lxw"
   ]
  },
  {
   "cell_type": "code",
   "execution_count": 6,
   "id": "eb101cd5-3984-47c6-98ce-1ec2f60502c3",
   "metadata": {},
   "outputs": [
    {
     "name": "stdin",
     "output_type": "stream",
     "text": [
      " 40\n"
     ]
    }
   ],
   "source": [
    "l = int(input()) #length of a rectangle."
   ]
  },
  {
   "cell_type": "code",
   "execution_count": 7,
   "id": "e9a5a5e7-2c4b-432a-9551-46e0c6e1a02c",
   "metadata": {},
   "outputs": [
    {
     "name": "stdin",
     "output_type": "stream",
     "text": [
      " 20\n"
     ]
    }
   ],
   "source": [
    "w = int(input()) #width of a rectangle."
   ]
  },
  {
   "cell_type": "code",
   "execution_count": 8,
   "id": "b4c23911-be9d-46c7-944d-2269da3eedbc",
   "metadata": {},
   "outputs": [
    {
     "data": {
      "text/plain": [
       "(40, 20)"
      ]
     },
     "execution_count": 8,
     "metadata": {},
     "output_type": "execute_result"
    }
   ],
   "source": [
    "l,w"
   ]
  },
  {
   "cell_type": "code",
   "execution_count": 9,
   "id": "37663cf5-763e-4671-be1d-65d0d9c34b97",
   "metadata": {},
   "outputs": [],
   "source": [
    "area = l*w #area of rectangle."
   ]
  },
  {
   "cell_type": "code",
   "execution_count": 57,
   "id": "6a4ed010-c643-41c3-9c67-cd9b4d833b8d",
   "metadata": {},
   "outputs": [
    {
     "name": "stdout",
     "output_type": "stream",
     "text": [
      "Area of a rectangle is 800\n"
     ]
    }
   ],
   "source": [
    "print(\"Area of a rectangle is\", area)"
   ]
  },
  {
   "cell_type": "code",
   "execution_count": null,
   "id": "0e17f9c3-8a68-4310-8488-668145b7f649",
   "metadata": {},
   "outputs": [],
   "source": [
    "'''Q3 Write a Python program that converts temperature from Celsius to\n",
    "Fahrenheit. Take the temperature in Celsius as input, store it in a\n",
    "variable, convert it to Fahrenheit, and display the result.'''"
   ]
  },
  {
   "cell_type": "code",
   "execution_count": 2,
   "id": "87232e58-4e03-47a9-9f06-4506fb08c019",
   "metadata": {},
   "outputs": [
    {
     "name": "stdout",
     "output_type": "stream",
     "text": [
      "enter the value in celsius\n"
     ]
    },
    {
     "name": "stdin",
     "output_type": "stream",
     "text": [
      " 3\n"
     ]
    }
   ],
   "source": [
    "print(\"enter the value in celsius\")\n",
    "celsius = int(input()) "
   ]
  },
  {
   "cell_type": "code",
   "execution_count": 3,
   "id": "eead03ef-36e6-46a0-a51d-10bfa8d61607",
   "metadata": {},
   "outputs": [],
   "source": [
    "fahrenheit = celsius * 9/5 + 32"
   ]
  },
  {
   "cell_type": "code",
   "execution_count": 4,
   "id": "0c639299-5e34-4f53-848e-c81086556331",
   "metadata": {},
   "outputs": [
    {
     "name": "stdout",
     "output_type": "stream",
     "text": [
      "converted to fahrenheit 37.4 F\n"
     ]
    }
   ],
   "source": [
    "print(\"converted to fahrenheit\",fahrenheit,\"F\")"
   ]
  },
  {
   "cell_type": "code",
   "execution_count": 10,
   "id": "7e6c3f73-c631-49c7-b7c7-e0d767f5b235",
   "metadata": {},
   "outputs": [],
   "source": [
    "#topic String Based Questions"
   ]
  },
  {
   "cell_type": "code",
   "execution_count": null,
   "id": "c52f1605-213a-433d-ab73-2ded5d28085a",
   "metadata": {},
   "outputs": [],
   "source": [
    "''' Q1 Write a Python program that takes a string as input and prints the\n",
    "length of the string.'''"
   ]
  },
  {
   "cell_type": "code",
   "execution_count": 12,
   "id": "f527fda0-cbcd-4e93-8982-9300c626b983",
   "metadata": {},
   "outputs": [
    {
     "name": "stdout",
     "output_type": "stream",
     "text": [
      "what is your name\n"
     ]
    },
    {
     "name": "stdin",
     "output_type": "stream",
     "text": [
      " Honey\n"
     ]
    }
   ],
   "source": [
    "print(\"what is your name\")\n",
    "name = input()"
   ]
  },
  {
   "cell_type": "code",
   "execution_count": 16,
   "id": "81d92b15-f8e8-4dda-adba-94e20e630a7d",
   "metadata": {},
   "outputs": [
    {
     "name": "stdout",
     "output_type": "stream",
     "text": [
      "length of your name is 5\n"
     ]
    }
   ],
   "source": [
    "print(\"length of your name is\",len(name))"
   ]
  },
  {
   "cell_type": "code",
   "execution_count": null,
   "id": "a929fdf4-3041-4b45-8326-ef1576743c8f",
   "metadata": {},
   "outputs": [],
   "source": [
    "''' Q2 Create a program that takes a sentence from the user and counts the\n",
    "number of vowels (a, e, i, o, u) in the string.'''"
   ]
  },
  {
   "cell_type": "code",
   "execution_count": 19,
   "id": "e45c76b2-71ba-4aa4-92f3-4d0270fd74a5",
   "metadata": {},
   "outputs": [
    {
     "name": "stdout",
     "output_type": "stream",
     "text": [
      "write any sentence\n"
     ]
    },
    {
     "name": "stdin",
     "output_type": "stream",
     "text": [
      " im from a data science pro batch\n"
     ]
    }
   ],
   "source": [
    "print(\"write any sentence\")\n",
    "sentence = input()\n"
   ]
  },
  {
   "cell_type": "code",
   "execution_count": 56,
   "id": "fa4e180c-f13d-435f-9e40-09112fa7c149",
   "metadata": {},
   "outputs": [
    {
     "name": "stdout",
     "output_type": "stream",
     "text": [
      "vowel a = 4\n"
     ]
    }
   ],
   "source": [
    "\n",
    "a = sentence.count('a')\n",
    "e = sentence.count('e')\n",
    "i = sentence.count('i')\n",
    "o = sentence.count('o')\n",
    "u = sentence.count('u')\n",
    "print(\"vowel a =\", a)\n",
    "print(\"vowel e =\", e)\n",
    "print(\"vowel i =\", i)\n",
    "print(\"vowel o =\", o)\n",
    "print(\"vowel u =\", u)\n",
    "print()\n",
    "\n"
   ]
  },
  {
   "cell_type": "code",
   "execution_count": 13,
   "id": "c1565902-9834-4fa2-b207-b0091724aecd",
   "metadata": {},
   "outputs": [
    {
     "name": "stdout",
     "output_type": "stream",
     "text": [
      "no. of vowels from above sentence\n"
     ]
    }
   ],
   "source": [
    "print(\"no. of vowels from above sentence\")"
   ]
  },
  {
   "cell_type": "code",
   "execution_count": null,
   "id": "51f4184c-7d26-4f2f-865e-e5e05dc7d56f",
   "metadata": {},
   "outputs": [],
   "source": [
    "''' Q3 Given a string, reverse the order of characters using string slicing and\n",
    "print the reversed string.'''"
   ]
  },
  {
   "cell_type": "code",
   "execution_count": 25,
   "id": "366ea223-dcb7-49cb-b40f-06df8764b5aa",
   "metadata": {},
   "outputs": [],
   "source": [
    "str1 = 'hello, world'"
   ]
  },
  {
   "cell_type": "code",
   "execution_count": 29,
   "id": "5faf8ea4-73dc-47da-9f0f-e026ba0467cd",
   "metadata": {},
   "outputs": [
    {
     "name": "stdout",
     "output_type": "stream",
     "text": [
      "dlrow ,olleh\n"
     ]
    }
   ],
   "source": [
    "print(str1[::-1])"
   ]
  },
  {
   "cell_type": "code",
   "execution_count": null,
   "id": "dfa29876-43c4-4b58-b032-ed7b24eeff96",
   "metadata": {},
   "outputs": [],
   "source": [
    "''' Q4 Write a program that takes a string as input and checks if it is a\n",
    "palindrome (reads the same forwards and backwards).'''"
   ]
  },
  {
   "cell_type": "code",
   "execution_count": 34,
   "id": "64ceb78d-79ee-42f4-a3d8-f6815c1d8b31",
   "metadata": {},
   "outputs": [
    {
     "name": "stdin",
     "output_type": "stream",
     "text": [
      " mom\n"
     ]
    }
   ],
   "source": [
    "str2 = input()"
   ]
  },
  {
   "cell_type": "code",
   "execution_count": 35,
   "id": "34473937-9ab3-4459-b258-5a7806ec9b07",
   "metadata": {},
   "outputs": [],
   "source": [
    "str3 = str2[::-1]  # it will reverse the str2 "
   ]
  },
  {
   "cell_type": "code",
   "execution_count": 36,
   "id": "dfca874a-f3a9-44bc-9b1f-d63d137c6c85",
   "metadata": {},
   "outputs": [
    {
     "data": {
      "text/plain": [
       "True"
      ]
     },
     "execution_count": 36,
     "metadata": {},
     "output_type": "execute_result"
    }
   ],
   "source": [
    "str2 == str3  # == this operater compare str2 to str3 check if there's value is equal or not"
   ]
  },
  {
   "cell_type": "code",
   "execution_count": null,
   "id": "dc117fd1-f528-4de6-89f9-523b18aac628",
   "metadata": {},
   "outputs": [],
   "source": [
    "'''Q5 Create a program that takes a string as input and removes all the\n",
    "spaces from it. Print the modified string without spaces.'''"
   ]
  },
  {
   "cell_type": "code",
   "execution_count": 39,
   "id": "0dfaa631-1f1e-4797-8d95-d88c9d81e810",
   "metadata": {},
   "outputs": [
    {
     "name": "stdin",
     "output_type": "stream",
     "text": [
      "   hello    world    \n"
     ]
    }
   ],
   "source": [
    "str4 = input()"
   ]
  },
  {
   "cell_type": "code",
   "execution_count": 40,
   "id": "2ccc61c6-0f7b-4724-bba5-d9dc1710f8d6",
   "metadata": {},
   "outputs": [
    {
     "data": {
      "text/plain": [
       "'  hello    world    '"
      ]
     },
     "execution_count": 40,
     "metadata": {},
     "output_type": "execute_result"
    }
   ],
   "source": [
    "str4"
   ]
  },
  {
   "cell_type": "code",
   "execution_count": 41,
   "id": "b9e2f425-f671-406d-afe3-082df4d5a99d",
   "metadata": {},
   "outputs": [
    {
     "data": {
      "text/plain": [
       "'hello    world'"
      ]
     },
     "execution_count": 41,
     "metadata": {},
     "output_type": "execute_result"
    }
   ],
   "source": [
    "str4.strip() #remove white space from left and right"
   ]
  },
  {
   "cell_type": "code",
   "execution_count": 48,
   "id": "01cf7457-2d6e-4945-aec2-48dcdfd3bec4",
   "metadata": {},
   "outputs": [
    {
     "data": {
      "text/plain": [
       "'helloworld'"
      ]
     },
     "execution_count": 48,
     "metadata": {},
     "output_type": "execute_result"
    }
   ],
   "source": [
    "str4.replace(\" \",\"\") #remove every white space "
   ]
  },
  {
   "cell_type": "code",
   "execution_count": null,
   "id": "08e47b7b-523c-4ad9-805f-10185e3fc34e",
   "metadata": {},
   "outputs": [],
   "source": []
  }
 ],
 "metadata": {
  "kernelspec": {
   "display_name": "Python 3 (ipykernel)",
   "language": "python",
   "name": "python3"
  },
  "language_info": {
   "codemirror_mode": {
    "name": "ipython",
    "version": 3
   },
   "file_extension": ".py",
   "mimetype": "text/x-python",
   "name": "python",
   "nbconvert_exporter": "python",
   "pygments_lexer": "ipython3",
   "version": "3.10.8"
  }
 },
 "nbformat": 4,
 "nbformat_minor": 5
}
